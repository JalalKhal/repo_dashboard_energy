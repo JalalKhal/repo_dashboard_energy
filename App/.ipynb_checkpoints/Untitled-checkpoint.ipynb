{
 "cells": [
  {
   "cell_type": "code",
   "execution_count": 5,
   "id": "db5f0b9a-46f6-4b3b-98ec-d5ae7a41bd6f",
   "metadata": {},
   "outputs": [],
   "source": [
    "import requests\n",
    "import json"
   ]
  },
  {
   "cell_type": "code",
   "execution_count": 2,
   "id": "3d2969ea-99d2-4c69-9baf-34a89af08c68",
   "metadata": {},
   "outputs": [],
   "source": [
    "r=requests.get(\"https://odre.opendatasoft.com/api/records/1.0/search/?dataset=courbe-de-charge-eldgrd-regional-grtgaz-terega&q=&rows=24480&sort=date&facet=date&facet=operateur&facet=region\")"
   ]
  },
  {
   "cell_type": "code",
   "execution_count": 3,
   "id": "68564f6c-4b4d-4195-a478-e562056e53e0",
   "metadata": {},
   "outputs": [
    {
     "data": {
      "text/plain": [
       "200"
      ]
     },
     "execution_count": 3,
     "metadata": {},
     "output_type": "execute_result"
    }
   ],
   "source": [
    "r.status_code"
   ]
  },
  {
   "cell_type": "code",
   "execution_count": 6,
   "id": "458c9444-a9ce-45ad-8b2c-9767c25bf834",
   "metadata": {},
   "outputs": [],
   "source": [
    "data_json=json.loads(r.text)"
   ]
  },
  {
   "cell_type": "code",
   "execution_count": 11,
   "id": "e9131a25-061a-4958-a06e-c470cb00bb40",
   "metadata": {},
   "outputs": [
    {
     "data": {
      "text/plain": [
       "10"
      ]
     },
     "execution_count": 11,
     "metadata": {},
     "output_type": "execute_result"
    }
   ],
   "source": [
    "len(data_json['records'])"
   ]
  },
  {
   "cell_type": "code",
   "execution_count": null,
   "id": "3850b209-a7d0-46ec-af31-76c637af2ebe",
   "metadata": {},
   "outputs": [],
   "source": []
  }
 ],
 "metadata": {
  "kernelspec": {
   "display_name": "Python 3 (ipykernel)",
   "language": "python",
   "name": "python3"
  },
  "language_info": {
   "codemirror_mode": {
    "name": "ipython",
    "version": 3
   },
   "file_extension": ".py",
   "mimetype": "text/x-python",
   "name": "python",
   "nbconvert_exporter": "python",
   "pygments_lexer": "ipython3",
   "version": "3.10.6"
  }
 },
 "nbformat": 4,
 "nbformat_minor": 5
}
